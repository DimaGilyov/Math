{
 "cells": [
  {
   "cell_type": "code",
   "execution_count": 2,
   "id": "8686681d",
   "metadata": {},
   "outputs": [],
   "source": [
    "import numpy as np\n",
    "import pandas as pd\n",
    "import scipy.stats as st"
   ]
  },
  {
   "cell_type": "markdown",
   "id": "1d891b76",
   "metadata": {},
   "source": [
    "#### Задача 1\n",
    "В течении продолжительного срока при анализе материала на сожержание железа установлено среднее квадратическое отклонение sigma = 0.12.\n",
    "Считая значение sigma реальным средним квадратическим отклонением случайной величины, найти доверительный интервал вароятностью 0.95 доверительный интервал для истиного содержания железа в образце, если по результатам 6 анализов среднее содержание железа составило 32.56.\n",
    "Результаты замеров распределены нормально"
   ]
  },
  {
   "cell_type": "code",
   "execution_count": 7,
   "id": "ecaece6c",
   "metadata": {},
   "outputs": [
    {
     "data": {
      "text/plain": [
       "[32.4639817664729, 32.65601823352711]"
      ]
     },
     "execution_count": 7,
     "metadata": {},
     "output_type": "execute_result"
    }
   ],
   "source": [
    "std = 0.12\n",
    "p = 0.95\n",
    "m = 32.56\n",
    "n = 6\n",
    "\n",
    "def get_confidence_interval(p, std, x, n):\n",
    "    a = (1 - p) / 2\n",
    "    z = st.norm.ppf(a)\n",
    "    \n",
    "    return [x + z * (std / np.sqrt(n)), x - z * (std / np.sqrt(n))]\n",
    "\n",
    "interval = get_confidence_interval(p, std, m, n)\n",
    "interval"
   ]
  },
  {
   "cell_type": "markdown",
   "id": "4863fe8c",
   "metadata": {},
   "source": [
    "#### Задача 2\n",
    "В урне 3 шара. Возможные цвета шаров - белый и черный. Трижды вынимали один шар с возращением в урну, причем все три раза шар отказывался белого цвета. Найти вероятность что все 3 шара в урне белые"
   ]
  },
  {
   "cell_type": "code",
   "execution_count": 41,
   "id": "1db3a70a",
   "metadata": {},
   "outputs": [
    {
     "name": "stdout",
     "output_type": "stream",
     "text": [
      "Вероятность: 0.5\n"
     ]
    }
   ],
   "source": [
    "p_1 = 1/3\n",
    "p_2 = 2/3\n",
    "p_3 = 1\n",
    "p_a = p_1*1/3 + p_2*1/3 + p_3*1/3 \n",
    "P = (1 * 1/3) / p_a\n",
    "print(f\"Вероятность: {P}\")"
   ]
  },
  {
   "cell_type": "markdown",
   "id": "cd989e51",
   "metadata": {},
   "source": [
    "#### Задача 3\n",
    "Случайная величина X задана законом распределения:\n",
    "\n",
    "x: -1, 0, 1, 2\n",
    "\n",
    "P(x): 0.1, 0.2, 0.3, 0.4\n",
    "Найти мат.ожидание и диспресию"
   ]
  },
  {
   "cell_type": "code",
   "execution_count": 11,
   "id": "c8e87084",
   "metadata": {},
   "outputs": [
    {
     "name": "stdout",
     "output_type": "stream",
     "text": [
      "M(x): 1.0\n",
      "D(x): 1.0\n"
     ]
    }
   ],
   "source": [
    "x = [-1, 0, 1, 2]\n",
    "p = [0.1, 0.2, 0.3, 0.4]\n",
    "mm = []\n",
    "for p_i, x_i in zip(p, x):\n",
    "    mm.append(p_i * x_i)\n",
    "m = sum(mm)\n",
    "\n",
    "dd = []\n",
    "for p_i, x_i in zip(p, x):\n",
    "    dd.append(x_i**2 * p_i)\n",
    "d = sum(dd) - m\n",
    "print(f\"M(x): {m}\")\n",
    "print(f\"D(x): {d}\")"
   ]
  },
  {
   "cell_type": "markdown",
   "id": "4233670f",
   "metadata": {},
   "source": [
    "#### Задача 4\n",
    "\n",
    "Для выборок из задачи 8 оценить вклад переменной x в переменную y. Это можно сделать, построив доверительный интервал для коэффициента наклона в модели парной регрессии на переменную x и y. Если доверительный интервал содержит 0, то вклад можно считать незначительным.\n",
    "Доверительная вероятность p=0.95"
   ]
  },
  {
   "cell_type": "code",
   "execution_count": 13,
   "id": "e55d6d99",
   "metadata": {},
   "outputs": [
    {
     "data": {
      "text/plain": [
       "array([[3.33066907e-16],\n",
       "       [1.52655666e-16],\n",
       "       [1.00000000e+00]])"
      ]
     },
     "execution_count": 13,
     "metadata": {},
     "output_type": "execute_result"
    }
   ],
   "source": [
    "X = [-0.22, 1.11, -0.16, -0.32, -1.01, -1.22, 0.92, -0.26, 0.62, -0.47]\n",
    "y = [0.78, 0.8, 1.03, 1.83, 0.89, -0.31, 1.19, 1.82, 1.19, 1.35]\n",
    "\n",
    "data = {\"0\": X, \"1\": y}\n",
    "df = pd.DataFrame(data)\n",
    "\n",
    "X = pd.DataFrame(X)\n",
    "y = pd.DataFrame(y)\n",
    "\n",
    "# Добавляем единичную матрицу для свободного коэффициента\n",
    "ones = np.ones((df.shape[0], 1))\n",
    "x = np.hstack((ones, df))\n",
    "\n",
    "# Вычисляем коэффициенты b\n",
    "b = np.linalg.inv(x.T.dot(x)).dot(x.T).dot(y)\n",
    "b"
   ]
  },
  {
   "cell_type": "markdown",
   "id": "b477af14",
   "metadata": {},
   "source": [
    "#### Задача 5\n",
    "\n",
    "Найти выборочное среднее и несмещеную оценку диспресии в выборке\n",
    "1, 2, 3, 4, 5, 5, 9"
   ]
  },
  {
   "cell_type": "code",
   "execution_count": 36,
   "id": "bc447036",
   "metadata": {},
   "outputs": [
    {
     "name": "stdout",
     "output_type": "stream",
     "text": [
      "4.142857142857143 6.80952380952381\n"
     ]
    }
   ],
   "source": [
    "X = np.array([1, 2, 3, 4, 5, 5, 9])\n",
    "M = X.mean()\n",
    "D = (((X - M)**2).sum())/(X.size -1)\n",
    "print(M, D)"
   ]
  },
  {
   "cell_type": "markdown",
   "id": "624d11bd",
   "metadata": {},
   "source": [
    "#### Задача 6\n",
    "\n",
    "Радиосообщение может быть передано днем с вероятностью 0.75, либо ночью с вероятность 0.25. Из-за помех вероятность успешного приема днем 60%, а ночью 80%.\n",
    "Найти вероятность что сообщение будет принято."
   ]
  },
  {
   "cell_type": "code",
   "execution_count": 8,
   "id": "af3347c0",
   "metadata": {},
   "outputs": [
    {
     "data": {
      "text/plain": [
       "0.6499999999999999"
      ]
     },
     "execution_count": 8,
     "metadata": {},
     "output_type": "execute_result"
    }
   ],
   "source": [
    "p = 0.75 * 0.60 + 0.25*0.80\n",
    "p"
   ]
  },
  {
   "cell_type": "markdown",
   "id": "b20d6a9e",
   "metadata": {},
   "source": [
    "#### Задача 7\n",
    "\n",
    "Даны значения выборок \n",
    "x = [-0.22, 1.11, -0.16, -0.32, -1.01, -1.22, 0.92, -0.26, 0.62, -0.47]\n",
    "\n",
    "y = [0.78, 0.8, 1.03, 1.83, 0.89, -0.31, 1.19, 1.82, 1.19, 1.35]\n",
    "\n",
    "Предполагая что распределение этих выборок нормальны, проверить гипотезу о значимости коэффициента корреляции Пирсона между ними.\n",
    "Уровень значимости alpha=0.05\n"
   ]
  },
  {
   "cell_type": "code",
   "execution_count": 9,
   "id": "ed536f47",
   "metadata": {},
   "outputs": [
    {
     "data": {
      "text/plain": [
       "array([[1.        , 0.29319918],\n",
       "       [0.29319918, 1.        ]])"
      ]
     },
     "execution_count": 9,
     "metadata": {},
     "output_type": "execute_result"
    }
   ],
   "source": [
    "x = [-0.22, 1.11, -0.16, -0.32, -1.01, -1.22, 0.92, -0.26, 0.62, -0.47]\n",
    "y = [0.78, 0.8, 1.03, 1.83, 0.89, -0.31, 1.19, 1.82, 1.19, 1.35]\n",
    "corrcoef_2 = np.corrcoef(x, y)\n",
    "corrcoef_2"
   ]
  },
  {
   "cell_type": "markdown",
   "id": "5292a041",
   "metadata": {},
   "source": [
    "Уровень значимый"
   ]
  },
  {
   "cell_type": "markdown",
   "id": "add89424",
   "metadata": {},
   "source": [
    "#### Задача 8\n",
    "\n",
    "Проводились испытания нового лекарства. В эксперементе учавствовали n1= 3000 мужчин и n2 = 3500 женщин. У m1 = 50 мужчин и m2 = 110 женщин наблюдались побочные эффекты. Можно ли утверждать что побочные эффекты от нового лекартства возникают с одинаковой частотой у мужчин и женщин? \n",
    "Уровень значимости alpha=0.05\n"
   ]
  },
  {
   "cell_type": "code",
   "execution_count": 12,
   "id": "ceb2af56",
   "metadata": {},
   "outputs": [
    {
     "name": "stdout",
     "output_type": "stream",
     "text": [
      "p1: 0.016666666666666666, p2: 0.03142857142857143\n",
      "p:0.024615384615384615\n",
      "Z-r: -3.829032977219434, Z_t: 1.6448536269514722\n"
     ]
    }
   ],
   "source": [
    "n1 = 3000\n",
    "n2 = 3500\n",
    "m1 = 50\n",
    "m2 = 110\n",
    "\n",
    "alpha = 0.05\n",
    "\n",
    "# Считамем доли побочных случаев у мужчин и женщин\n",
    "p1 = m1/n1\n",
    "p2 = m2/n2\n",
    "print(f'p1: {p1}, p2: {p2}')\n",
    "\n",
    "# Считаем общую долю случаев\n",
    "p = (m1 + m2)/(n1 + n2)\n",
    "print(f'p:{p}')\n",
    "\n",
    "#Проверить гипотезу H0 что реальные пропорции p1 и p2 равны\n",
    "\n",
    "#В предположении верности гипотезы H0 следующая статистика имеет стандартное нормальное распределение\n",
    "Z_r = (p1 - p2) / np.sqrt((1/n1 + 1/n2) * p * (1 - p))\n",
    "Z_t = st.norm.ppf(1 - alpha)\n",
    "print(f\"Z-r: {Z_r}, Z_t: {Z_t}\")"
   ]
  },
  {
   "cell_type": "markdown",
   "id": "178a1418",
   "metadata": {},
   "source": [
    "H0 верна, Частота побочных эффектов одинаковы у мужчин и женщин"
   ]
  },
  {
   "cell_type": "markdown",
   "id": "45e46a41",
   "metadata": {},
   "source": [
    "#### Задача 9\n",
    "\n",
    "В ящике 5 апельсинов и 4 яблока. Наудачу выбираются 3 фрукта. Какова вероятность что все три фрукта - апельсины?"
   ]
  },
  {
   "cell_type": "code",
   "execution_count": 47,
   "id": "7dde2e5c",
   "metadata": {},
   "outputs": [
    {
     "data": {
      "text/plain": [
       "0.11904761904761905"
      ]
     },
     "execution_count": 47,
     "metadata": {},
     "output_type": "execute_result"
    }
   ],
   "source": [
    "oranges = 5\n",
    "apples = 4\n",
    "\n",
    "s = 5/9 * 4/8 * 3/7 \n",
    "s"
   ]
  },
  {
   "cell_type": "markdown",
   "id": "f6351f8e",
   "metadata": {},
   "source": [
    "#### Задача 10\n",
    "\n",
    "Найти вероятность что попадем в интервал 12 и 14"
   ]
  },
  {
   "cell_type": "code",
   "execution_count": 6,
   "id": "17eef339",
   "metadata": {},
   "outputs": [
    {
     "name": "stdout",
     "output_type": "stream",
     "text": [
      "1.0 2.0\n"
     ]
    }
   ],
   "source": [
    "m = 10\n",
    "d = 2\n",
    "z_12 = (12 - m) / d \n",
    "z_14 = (14 - m) / d \n",
    "print(z_12, z_14)"
   ]
  },
  {
   "cell_type": "code",
   "execution_count": 7,
   "id": "8abd8626",
   "metadata": {},
   "outputs": [
    {
     "data": {
      "text/plain": [
       "0.13591"
      ]
     },
     "execution_count": 7,
     "metadata": {},
     "output_type": "execute_result"
    }
   ],
   "source": [
    "p1 = 0.15866\n",
    "p2 = 0.02275\n",
    "z = p1 - p2\n",
    "z"
   ]
  },
  {
   "cell_type": "code",
   "execution_count": 10,
   "id": "d26c93af",
   "metadata": {},
   "outputs": [
    {
     "data": {
      "text/plain": [
       "0.0455"
      ]
     },
     "execution_count": 10,
     "metadata": {},
     "output_type": "execute_result"
    }
   ],
   "source": [
    "p_value = 2 * min(p1, p2)\n",
    "p_value"
   ]
  },
  {
   "cell_type": "code",
   "execution_count": null,
   "id": "6a1b6484",
   "metadata": {},
   "outputs": [],
   "source": []
  }
 ],
 "metadata": {
  "kernelspec": {
   "display_name": "Python 3 (ipykernel)",
   "language": "python",
   "name": "python3"
  },
  "language_info": {
   "codemirror_mode": {
    "name": "ipython",
    "version": 3
   },
   "file_extension": ".py",
   "mimetype": "text/x-python",
   "name": "python",
   "nbconvert_exporter": "python",
   "pygments_lexer": "ipython3",
   "version": "3.9.2"
  }
 },
 "nbformat": 4,
 "nbformat_minor": 5
}
