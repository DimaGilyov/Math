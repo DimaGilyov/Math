{
 "cells": [
  {
   "cell_type": "markdown",
   "id": "3d4aabea",
   "metadata": {},
   "source": [
    "# Лекция 8"
   ]
  },
  {
   "cell_type": "markdown",
   "id": "df357800",
   "metadata": {},
   "source": [
    "Используя данные о хоккеистах (скачать можно [здесь](https://habr.com/ru/post/301340/)), проверьте, является ли среди хоккеистов из Финляндии, Норвегии и Дании значимым отличие роста. В качестве ответа запишите 1, если является, и 0 иначе."
   ]
  },
  {
   "cell_type": "code",
   "execution_count": 103,
   "id": "3d7dd3d8",
   "metadata": {},
   "outputs": [],
   "source": [
    "import numpy as np\n",
    "import pandas as pd\n",
    "from scipy import stats"
   ]
  },
  {
   "cell_type": "code",
   "execution_count": 16,
   "id": "3d3b1194",
   "metadata": {},
   "outputs": [
    {
     "data": {
      "text/html": [
       "<div>\n",
       "<style scoped>\n",
       "    .dataframe tbody tr th:only-of-type {\n",
       "        vertical-align: middle;\n",
       "    }\n",
       "\n",
       "    .dataframe tbody tr th {\n",
       "        vertical-align: top;\n",
       "    }\n",
       "\n",
       "    .dataframe thead th {\n",
       "        text-align: right;\n",
       "    }\n",
       "</style>\n",
       "<table border=\"1\" class=\"dataframe\">\n",
       "  <thead>\n",
       "    <tr style=\"text-align: right;\">\n",
       "      <th></th>\n",
       "      <th>year</th>\n",
       "      <th>country</th>\n",
       "      <th>no</th>\n",
       "      <th>name</th>\n",
       "      <th>position</th>\n",
       "      <th>side</th>\n",
       "      <th>height</th>\n",
       "      <th>weight</th>\n",
       "      <th>birth</th>\n",
       "      <th>club</th>\n",
       "      <th>age</th>\n",
       "      <th>cohort</th>\n",
       "      <th>bmi</th>\n",
       "    </tr>\n",
       "  </thead>\n",
       "  <tbody>\n",
       "    <tr>\n",
       "      <th>0</th>\n",
       "      <td>2001</td>\n",
       "      <td>RUS</td>\n",
       "      <td>10</td>\n",
       "      <td>tverdovsky oleg</td>\n",
       "      <td>D</td>\n",
       "      <td>L</td>\n",
       "      <td>185</td>\n",
       "      <td>84.0</td>\n",
       "      <td>1976-05-18</td>\n",
       "      <td>anaheim mighty ducks</td>\n",
       "      <td>24.952772</td>\n",
       "      <td>1976</td>\n",
       "      <td>24.543462</td>\n",
       "    </tr>\n",
       "    <tr>\n",
       "      <th>1</th>\n",
       "      <td>2001</td>\n",
       "      <td>RUS</td>\n",
       "      <td>2</td>\n",
       "      <td>vichnevsky vitali</td>\n",
       "      <td>D</td>\n",
       "      <td>L</td>\n",
       "      <td>188</td>\n",
       "      <td>86.0</td>\n",
       "      <td>1980-03-18</td>\n",
       "      <td>anaheim mighty ducks</td>\n",
       "      <td>21.119781</td>\n",
       "      <td>1980</td>\n",
       "      <td>24.332277</td>\n",
       "    </tr>\n",
       "    <tr>\n",
       "      <th>2</th>\n",
       "      <td>2001</td>\n",
       "      <td>RUS</td>\n",
       "      <td>26</td>\n",
       "      <td>petrochinin evgeni</td>\n",
       "      <td>D</td>\n",
       "      <td>L</td>\n",
       "      <td>182</td>\n",
       "      <td>95.0</td>\n",
       "      <td>1976-02-07</td>\n",
       "      <td>severstal cherepovetal</td>\n",
       "      <td>25.229295</td>\n",
       "      <td>1976</td>\n",
       "      <td>28.680111</td>\n",
       "    </tr>\n",
       "    <tr>\n",
       "      <th>3</th>\n",
       "      <td>2001</td>\n",
       "      <td>RUS</td>\n",
       "      <td>28</td>\n",
       "      <td>zhdan alexander</td>\n",
       "      <td>D</td>\n",
       "      <td>R</td>\n",
       "      <td>178</td>\n",
       "      <td>85.0</td>\n",
       "      <td>1971-08-28</td>\n",
       "      <td>ak bars kazan</td>\n",
       "      <td>29.675565</td>\n",
       "      <td>1971</td>\n",
       "      <td>26.827421</td>\n",
       "    </tr>\n",
       "    <tr>\n",
       "      <th>4</th>\n",
       "      <td>2001</td>\n",
       "      <td>RUS</td>\n",
       "      <td>32</td>\n",
       "      <td>orekhovsky oleg</td>\n",
       "      <td>D</td>\n",
       "      <td>R</td>\n",
       "      <td>175</td>\n",
       "      <td>88.0</td>\n",
       "      <td>1977-11-03</td>\n",
       "      <td>dynamo moscow</td>\n",
       "      <td>23.490760</td>\n",
       "      <td>1977</td>\n",
       "      <td>28.734694</td>\n",
       "    </tr>\n",
       "  </tbody>\n",
       "</table>\n",
       "</div>"
      ],
      "text/plain": [
       "   year country  no                 name position side  height  weight  \\\n",
       "0  2001     RUS  10     tverdovsky oleg         D    L     185    84.0   \n",
       "1  2001     RUS   2   vichnevsky vitali         D    L     188    86.0   \n",
       "2  2001     RUS  26  petrochinin evgeni         D    L     182    95.0   \n",
       "3  2001     RUS  28     zhdan alexander         D    R     178    85.0   \n",
       "4  2001     RUS  32     orekhovsky oleg         D    R     175    88.0   \n",
       "\n",
       "        birth                     club        age  cohort        bmi  \n",
       "0  1976-05-18    anaheim mighty ducks   24.952772    1976  24.543462  \n",
       "1  1980-03-18    anaheim mighty ducks   21.119781    1980  24.332277  \n",
       "2  1976-02-07  severstal cherepovetal   25.229295    1976  28.680111  \n",
       "3  1971-08-28           ak bars kazan   29.675565    1971  26.827421  \n",
       "4  1977-11-03           dynamo moscow   23.490760    1977  28.734694  "
      ]
     },
     "execution_count": 16,
     "metadata": {},
     "output_type": "execute_result"
    }
   ],
   "source": [
    "players = pd.read_csv('hockey_players.csv', encoding='cp1252')\n",
    "players.head()"
   ]
  },
  {
   "cell_type": "code",
   "execution_count": 25,
   "id": "3caecc75",
   "metadata": {},
   "outputs": [
    {
     "data": {
      "text/plain": [
       "array(['RUS', 'AUT', 'BLR', 'CAN', 'CZE', 'FIN', 'GER', 'ITA', 'JPN',\n",
       "       'LAT', 'NOR', 'SUI', 'SVK', 'SWE', 'UKR', 'USA', 'POL', 'SLO',\n",
       "       'DEN', 'FRA', 'KAZ', 'HUN'], dtype=object)"
      ]
     },
     "execution_count": 25,
     "metadata": {},
     "output_type": "execute_result"
    }
   ],
   "source": [
    "countries = players['country'].unique()\n",
    "countries"
   ]
  },
  {
   "cell_type": "markdown",
   "id": "df9d73d3",
   "metadata": {},
   "source": [
    "Нас интересуют игроки FIN, NOR, FRA"
   ]
  },
  {
   "cell_type": "code",
   "execution_count": 54,
   "id": "5fb720e3",
   "metadata": {},
   "outputs": [
    {
     "name": "stdout",
     "output_type": "stream",
     "text": [
      "fin_players: 396\n",
      "nor_players: 290\n",
      "fra_players: 249\n"
     ]
    }
   ],
   "source": [
    "fin_players = players[players['country'] == 'FIN']\n",
    "nor_players = players[players['country'] == 'NOR']\n",
    "fra_players = players[players['country'] == 'FRA']\n",
    "\n",
    "print(f'fin_players: {fin_players.shape[0]}')\n",
    "print(f'nor_players: {nor_players.shape[0]}')\n",
    "print(f'fra_players: {fra_players.shape[0]}')"
   ]
  },
  {
   "cell_type": "code",
   "execution_count": 56,
   "id": "51c85673",
   "metadata": {},
   "outputs": [
    {
     "data": {
      "text/plain": [
       "1292    181\n",
       "1293    178\n",
       "1294    183\n",
       "1295    180\n",
       "1296    179\n",
       "       ... \n",
       "6063    180\n",
       "6064    186\n",
       "6065    186\n",
       "6066    183\n",
       "6067    183\n",
       "Name: height, Length: 249, dtype: int64"
      ]
     },
     "execution_count": 56,
     "metadata": {},
     "output_type": "execute_result"
    }
   ],
   "source": [
    "TARGET = 'height'\n",
    "h_1 = fin_players[TARGET]\n",
    "h_2 = nor_players[TARGET]\n",
    "h_3 = fra_players[TARGET]"
   ]
  },
  {
   "cell_type": "markdown",
   "id": "2f68f4dc",
   "metadata": {},
   "source": [
    "Для того что бы узнать влияет ли качественный показатель country на количественный показатель  height воспользуетмся критерием Фишера"
   ]
  },
  {
   "cell_type": "code",
   "execution_count": 113,
   "id": "5c807c83",
   "metadata": {},
   "outputs": [],
   "source": [
    "def anova(*samples):\n",
    "    \"\"\"F-статисктика\"\"\"    \n",
    "    SAMPLE = np.concatenate(samples)\n",
    "\n",
    "    ss_b = sum((s_i.mean() - SAMPLE.mean())**2 * s_i.size for s_i in samples)\n",
    "    ss_w = sum(((s_i - s_i.mean()) ** 2).sum() for s_i in samples)\n",
    "    \n",
    "\n",
    "    df = get_df(*samples)\n",
    "    sigma_b = ss_b / df[0]\n",
    "    sigma_w = ss_w / df[1]\n",
    "    \n",
    "    return sigma_b / sigma_w"
   ]
  },
  {
   "cell_type": "code",
   "execution_count": 114,
   "id": "69407b32",
   "metadata": {},
   "outputs": [],
   "source": [
    "def get_df(*samples):\n",
    "    \"\"\"Степени свободы\"\"\"\n",
    "    SAMPLE = np.concatenate(samples)\n",
    "    k = len(samples)\n",
    "    n = SAMPLE.size\n",
    "    k1 = k - 1\n",
    "    k2 = n - k\n",
    "    print(f'k1: {k1}, k2: {k2}')\n",
    "    return k1, k2"
   ]
  },
  {
   "cell_type": "code",
   "execution_count": 115,
   "id": "a1941ad0",
   "metadata": {},
   "outputs": [
    {
     "name": "stdout",
     "output_type": "stream",
     "text": [
      "k1: 2, k2: 932\n"
     ]
    },
    {
     "data": {
      "text/plain": [
       "4.556797960518417"
      ]
     },
     "execution_count": 115,
     "metadata": {},
     "output_type": "execute_result"
    }
   ],
   "source": [
    "F_r = anova(h_1, h_2, h_3)\n",
    "F_r"
   ]
  },
  {
   "cell_type": "markdown",
   "id": "53fe2a3d",
   "metadata": {},
   "source": [
    "После того как нашли F-расчетное, найдем F-критическое в таблице критических точек для заданного уровня значимости и степеней свободы"
   ]
  },
  {
   "cell_type": "code",
   "execution_count": 116,
   "id": "e5720424",
   "metadata": {},
   "outputs": [
    {
     "name": "stdout",
     "output_type": "stream",
     "text": [
      "k1: 2, k2: 932\n"
     ]
    },
    {
     "data": {
      "text/plain": [
       "3.0053821381465493"
      ]
     },
     "execution_count": 116,
     "metadata": {},
     "output_type": "execute_result"
    }
   ],
   "source": [
    "df = get_df(h_1, h_2, h_3)\n",
    "k1 = df[0]\n",
    "k2 = df[1]\n",
    "alpha = 0.05\n",
    "F_t = stats.f.ppf(1-alpha, k1, k2)\n",
    "F_t"
   ]
  },
  {
   "cell_type": "markdown",
   "id": "633a004b",
   "metadata": {},
   "source": [
    "F-расчетное больше чем F-табличное: и поэтому принимается гипотеза H1 которая гласит что страна влияет на рост.\n",
    "\n",
    "Ответ 1"
   ]
  },
  {
   "cell_type": "code",
   "execution_count": null,
   "id": "66c5f0d0",
   "metadata": {},
   "outputs": [],
   "source": []
  }
 ],
 "metadata": {
  "kernelspec": {
   "display_name": "Python 3 (ipykernel)",
   "language": "python",
   "name": "python3"
  },
  "language_info": {
   "codemirror_mode": {
    "name": "ipython",
    "version": 3
   },
   "file_extension": ".py",
   "mimetype": "text/x-python",
   "name": "python",
   "nbconvert_exporter": "python",
   "pygments_lexer": "ipython3",
   "version": "3.9.2"
  }
 },
 "nbformat": 4,
 "nbformat_minor": 5
}
