{
 "cells": [
  {
   "cell_type": "markdown",
   "id": "d47a3d33",
   "metadata": {},
   "source": [
    "# Домашнее задание. Урок 6."
   ]
  },
  {
   "cell_type": "code",
   "execution_count": 84,
   "id": "2d8bcd5b",
   "metadata": {},
   "outputs": [],
   "source": [
    "import numpy as np\n",
    "import pandas as pd\n",
    "from scipy import stats\n",
    "from math import sqrt"
   ]
  },
  {
   "cell_type": "markdown",
   "id": "8e41a719",
   "metadata": {},
   "source": [
    "1. Даны значения величины заработной платы заемщиков банка (zp) и значения их поведенческого кредитного скоринга (ks):\n",
    "zp = [35, 45, 190, 200, 40, 70, 54, 150, 120, 110],\n",
    "ks = [401, 574, 874, 919, 459, 739, 653, 902, 746, 832].\n",
    "Найдите ковариацию этих двух величин с помощью элементарных действий, а затем с помощью функции cov из numpy\n",
    "Полученные значения должны быть равны.\n",
    "Найдите коэффициент корреляции Пирсона с помощью ковариации и среднеквадратичных отклонений двух признаков,\n",
    "а затем с использованием функций из библиотек numpy и pandas.\n"
   ]
  },
  {
   "cell_type": "code",
   "execution_count": 65,
   "id": "c0c2ce88",
   "metadata": {},
   "outputs": [],
   "source": [
    "zp = [35, 45, 190, 200, 40, 70, 54, 150, 120, 110]\n",
    "ks = [401, 574, 874, 919, 459, 739, 653, 902, 746, 832]"
   ]
  },
  {
   "cell_type": "code",
   "execution_count": 66,
   "id": "9c0ee1ba",
   "metadata": {},
   "outputs": [],
   "source": [
    "def cov(x, y, ddof=0):\n",
    "    n = len(x)\n",
    "    x_mean = np.mean(x)\n",
    "    y_mean = np.mean(y)\n",
    "    s = 0\n",
    "    for x_i, y_i in zip(x, y):\n",
    "        s += (x_i - x_mean) * (y_i - y_mean)\n",
    "    return s / (n - ddof)"
   ]
  },
  {
   "cell_type": "markdown",
   "id": "a2495c86",
   "metadata": {},
   "source": [
    "Считаем ковариацию вручную"
   ]
  },
  {
   "cell_type": "code",
   "execution_count": 67,
   "id": "e945a6d8",
   "metadata": {},
   "outputs": [
    {
     "data": {
      "text/plain": [
       "10175.377777777778"
      ]
     },
     "execution_count": 67,
     "metadata": {},
     "output_type": "execute_result"
    }
   ],
   "source": [
    "cov_1 = cov(zp, ks, ddof=1)\n",
    "cov_1"
   ]
  },
  {
   "cell_type": "markdown",
   "id": "4e61f61b",
   "metadata": {},
   "source": [
    "Считаем ковариацию с помощью функции cov из библиотеки numpy"
   ]
  },
  {
   "cell_type": "code",
   "execution_count": 68,
   "id": "53a5755e",
   "metadata": {},
   "outputs": [
    {
     "data": {
      "text/plain": [
       "array([[ 3882.93333333, 10175.37777778],\n",
       "       [10175.37777778, 33854.32222222]])"
      ]
     },
     "execution_count": 68,
     "metadata": {},
     "output_type": "execute_result"
    }
   ],
   "source": [
    "cov_2 = np.cov(zp, ks, ddof=1)\n",
    "cov_2"
   ]
  },
  {
   "cell_type": "markdown",
   "id": "3b542b7a",
   "metadata": {},
   "source": [
    "Расчеты схотяся, все ок. "
   ]
  },
  {
   "cell_type": "markdown",
   "id": "b68ba4fc",
   "metadata": {},
   "source": [
    "Коэффициент корреляции Пирсона. Расчет вручную"
   ]
  },
  {
   "cell_type": "code",
   "execution_count": 69,
   "id": "83f96def",
   "metadata": {},
   "outputs": [],
   "source": [
    "def corrcoef(x, y, _ddof=0):\n",
    "    cov1 = cov(x, y, ddof=_ddof)\n",
    "    return cov1 / (np.std(x, ddof=_ddof) * np.std(y, ddof=_ddof))\n",
    "    "
   ]
  },
  {
   "cell_type": "code",
   "execution_count": 70,
   "id": "09d9ef49",
   "metadata": {},
   "outputs": [
    {
     "data": {
      "text/plain": [
       "0.8874900920739162"
      ]
     },
     "execution_count": 70,
     "metadata": {},
     "output_type": "execute_result"
    }
   ],
   "source": [
    "corrcoef_1 = corrcoef(zp, ks, _ddof=1)\n",
    "corrcoef_1"
   ]
  },
  {
   "cell_type": "markdown",
   "id": "0bd30cb6",
   "metadata": {},
   "source": [
    "Расчет коэффициента корреляции Пирсона с помощью Numpy"
   ]
  },
  {
   "cell_type": "code",
   "execution_count": 71,
   "id": "fdb33cea",
   "metadata": {},
   "outputs": [
    {
     "data": {
      "text/plain": [
       "array([[1.        , 0.88749009],\n",
       "       [0.88749009, 1.        ]])"
      ]
     },
     "execution_count": 71,
     "metadata": {},
     "output_type": "execute_result"
    }
   ],
   "source": [
    "corrcoef_2 = np.corrcoef(zp, ks)\n",
    "corrcoef_2"
   ]
  },
  {
   "cell_type": "markdown",
   "id": "d5388a8b",
   "metadata": {},
   "source": [
    "Расчет коэффициента корреляции Пирсона с помощью Pandas"
   ]
  },
  {
   "cell_type": "code",
   "execution_count": 80,
   "id": "28aebc58",
   "metadata": {},
   "outputs": [
    {
     "data": {
      "text/html": [
       "<div>\n",
       "<style scoped>\n",
       "    .dataframe tbody tr th:only-of-type {\n",
       "        vertical-align: middle;\n",
       "    }\n",
       "\n",
       "    .dataframe tbody tr th {\n",
       "        vertical-align: top;\n",
       "    }\n",
       "\n",
       "    .dataframe thead th {\n",
       "        text-align: right;\n",
       "    }\n",
       "</style>\n",
       "<table border=\"1\" class=\"dataframe\">\n",
       "  <thead>\n",
       "    <tr style=\"text-align: right;\">\n",
       "      <th></th>\n",
       "      <th>zp</th>\n",
       "      <th>ks</th>\n",
       "    </tr>\n",
       "  </thead>\n",
       "  <tbody>\n",
       "    <tr>\n",
       "      <th>zp</th>\n",
       "      <td>1.00000</td>\n",
       "      <td>0.88749</td>\n",
       "    </tr>\n",
       "    <tr>\n",
       "      <th>ks</th>\n",
       "      <td>0.88749</td>\n",
       "      <td>1.00000</td>\n",
       "    </tr>\n",
       "  </tbody>\n",
       "</table>\n",
       "</div>"
      ],
      "text/plain": [
       "         zp       ks\n",
       "zp  1.00000  0.88749\n",
       "ks  0.88749  1.00000"
      ]
     },
     "execution_count": 80,
     "metadata": {},
     "output_type": "execute_result"
    }
   ],
   "source": [
    "df = pd.DataFrame(list(zip(zp, ks)), columns=[\"zp\", \"ks\"])\n",
    "df.corr(method=\"pearson\")"
   ]
  },
  {
   "cell_type": "markdown",
   "id": "274b5264",
   "metadata": {},
   "source": [
    "2. Измерены значения IQ выборки студентов,\n",
    "обучающихся в местных технических вузах:\n",
    "131, 125, 115, 122, 131, 115, 107, 99, 125, 111.\n",
    "Известно, что в генеральной совокупности IQ распределен нормально.\n",
    "Найдите доверительный интервал для математического ожидания с надежностью 0.95.\n"
   ]
  },
  {
   "cell_type": "code",
   "execution_count": 74,
   "id": "49d17371",
   "metadata": {},
   "outputs": [
    {
     "data": {
      "text/plain": [
       "118.1"
      ]
     },
     "execution_count": 74,
     "metadata": {},
     "output_type": "execute_result"
    }
   ],
   "source": [
    "iq = [131, 125, 115, 122, 131, 115, 107, 99, 125, 111]\n",
    "n = len(iq)\n",
    "mean = np.mean(iq)\n",
    "mean"
   ]
  },
  {
   "cell_type": "code",
   "execution_count": 75,
   "id": "a1e5ca75",
   "metadata": {},
   "outputs": [],
   "source": [
    "t = stats.t.ppf(0.025, df=n-1)"
   ]
  },
  {
   "cell_type": "code",
   "execution_count": 76,
   "id": "5344bc04",
   "metadata": {},
   "outputs": [
    {
     "name": "stdout",
     "output_type": "stream",
     "text": [
      "Доверительный интервал для мат.ожидания:110.55608365158724 - 125.64391634841274\n"
     ]
    }
   ],
   "source": [
    "a = mean + t * (np.std(iq, ddof=1) / n**(1/2))\n",
    "b = mean - t * (np.std(iq, ddof=1) / n**(1/2))\n",
    "print(f\"Доверительный интервал для мат.ожидания:{a} - {b}\")"
   ]
  },
  {
   "cell_type": "markdown",
   "id": "3e122df9",
   "metadata": {},
   "source": [
    "3. Известно, что рост футболистов в сборной распределен нормально\n",
    "с дисперсией генеральной совокупности, равной 25 кв.см. Объем выборки равен 27,\n",
    "среднее выборочное составляет 174.2. Найдите доверительный интервал для математического\n",
    "ожидания с надежностью 0.95.\n"
   ]
  },
  {
   "cell_type": "code",
   "execution_count": 77,
   "id": "3c8cb43a",
   "metadata": {},
   "outputs": [],
   "source": [
    "d = 25\n",
    "n = 27\n",
    "mean = 174.2"
   ]
  },
  {
   "cell_type": "code",
   "execution_count": 78,
   "id": "dc9ac4b1",
   "metadata": {},
   "outputs": [
    {
     "data": {
      "text/plain": [
       "-1.9599639845400545"
      ]
     },
     "execution_count": 78,
     "metadata": {},
     "output_type": "execute_result"
    }
   ],
   "source": [
    "z = stats.norm.ppf(0.025)\n",
    "z"
   ]
  },
  {
   "cell_type": "code",
   "execution_count": 85,
   "id": "070abb38",
   "metadata": {},
   "outputs": [
    {
     "name": "stdout",
     "output_type": "stream",
     "text": [
      "Доверительный интервал для мат.ожидания:172.3140237765397 - 176.08597622346028\n"
     ]
    }
   ],
   "source": [
    "a = mean + z * sqrt(d) / sqrt(n)\n",
    "b = mean - z * sqrt(d) / sqrt(n)\n",
    "print(f\"Доверительный интервал для мат.ожидания:{a} - {b}\")"
   ]
  },
  {
   "cell_type": "markdown",
   "id": "3ee0ab39",
   "metadata": {},
   "source": [
    "4. Выберите тему для проектной работы по курсу Теории вероятностей и математической статистики\n",
    "и напишите ее в комментарии к Практическому заданию.\n"
   ]
  },
  {
   "cell_type": "markdown",
   "id": "84ce8782",
   "metadata": {},
   "source": [
    "Без понятия о каких темах идет речь"
   ]
  },
  {
   "cell_type": "code",
   "execution_count": null,
   "id": "24d6b41c",
   "metadata": {},
   "outputs": [],
   "source": []
  }
 ],
 "metadata": {
  "kernelspec": {
   "display_name": "Python 3 (ipykernel)",
   "language": "python",
   "name": "python3"
  },
  "language_info": {
   "codemirror_mode": {
    "name": "ipython",
    "version": 3
   },
   "file_extension": ".py",
   "mimetype": "text/x-python",
   "name": "python",
   "nbconvert_exporter": "python",
   "pygments_lexer": "ipython3",
   "version": "3.9.2"
  }
 },
 "nbformat": 4,
 "nbformat_minor": 5
}
