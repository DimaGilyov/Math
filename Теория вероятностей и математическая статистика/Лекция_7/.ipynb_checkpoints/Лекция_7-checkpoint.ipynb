{
 "cells": [
  {
   "cell_type": "markdown",
   "id": "d47a3d33",
   "metadata": {},
   "source": [
    "# Домашнее задание. Урок 7."
   ]
  },
  {
   "cell_type": "code",
   "execution_count": 54,
   "id": "5ea7a4e2",
   "metadata": {},
   "outputs": [],
   "source": [
    "import numpy as np\n",
    "import pandas as pd\n",
    "from scipy import stats\n",
    "import itertools"
   ]
  },
  {
   "cell_type": "markdown",
   "id": "7ad05871",
   "metadata": {},
   "source": [
    "#### Задача 1\n",
    "\n",
    "Дана матрица объект-признак X и значения целевой переменной y.\n",
    "\n",
    "Подберите два признака (из четырёх) так, чтобы уровень линейной зависимости целевой переменной от значений этих признаков был максимальным. Другими словами, модель линейной регрессии на этих признаках должна давать наилучший результат. В качестве ответа запишите значение коэффициента детерминации для модели на этих признаках."
   ]
  },
  {
   "cell_type": "code",
   "execution_count": 55,
   "id": "e9186737",
   "metadata": {},
   "outputs": [],
   "source": [
    "X = [[ 1.22401313,  2.30868478,  3.03636353,  2.69287214],\n",
    "     [-0.18757272,  1.30337355,  5.12093014,  3.46363202],\n",
    "     [-0.81094525,  1.82463398,  5.79686488,  1.86159445],\n",
    "     [ 0.75129018,  2.67392052,  3.65529809,  1.66746094],\n",
    "     [ 0.00972362,  1.97367255,  2.50594319,  1.69755173],\n",
    "     [-0.62972637,  0.77750764,  2.84124027,  4.54410559],\n",
    "     [ 2.29536229,  1.81206697,  1.95026215,  1.51874636],\n",
    "     [ 0.0920418 ,  2.26971361,  7.47708735,  2.61081203],\n",
    "     [ 2.39252799,  3.17563985,  3.61420599,  5.10773362],\n",
    "     [ 0.54983815,  2.87988651,  1.65752765,  1.59635987]]\n",
    "\n",
    "y = [ 9.26193358,  9.700363  ,  8.67214805,  8.74796974,  6.18689108,\n",
    "      7.53312713,  7.57643777, 12.44965478, 14.29010746,  6.68361218]"
   ]
  },
  {
   "cell_type": "code",
   "execution_count": 56,
   "id": "e5c61a45",
   "metadata": {},
   "outputs": [],
   "source": [
    "X = pd.DataFrame(X)\n",
    "y = pd.DataFrame(y)"
   ]
  },
  {
   "cell_type": "markdown",
   "id": "680880d4",
   "metadata": {},
   "source": [
    "Решил перебрать все возможные пары и выяснить где самый высокий коэффициент детерминации R^2"
   ]
  },
  {
   "cell_type": "code",
   "execution_count": 57,
   "id": "2352416a",
   "metadata": {},
   "outputs": [
    {
     "data": {
      "text/plain": [
       "[(0, 1), (0, 2), (0, 3), (1, 2), (1, 3), (2, 3)]"
      ]
     },
     "execution_count": 57,
     "metadata": {},
     "output_type": "execute_result"
    }
   ],
   "source": [
    "features = X.columns.values.tolist()\n",
    "pairs = list(itertools.combinations(features, 2))\n",
    "pairs"
   ]
  },
  {
   "cell_type": "code",
   "execution_count": 58,
   "id": "74052237",
   "metadata": {},
   "outputs": [],
   "source": [
    "r2_scopes = []\n",
    "for pair in pairs:\n",
    "    index_1 = pair[0]\n",
    "    index_2 = pair[1]\n",
    "    data = {\"0\": X[index_1], \"1\": X[index_2]}\n",
    "    df = pd.DataFrame(data)\n",
    "    \n",
    "    # Добавляем единичную матрицу для свободного коэффициента\n",
    "    ones = np.ones((df.shape[0], 1))\n",
    "    x = np.hstack((ones, df))\n",
    "    \n",
    "    # Вычисляем коэффициенты b\n",
    "    b = np.linalg.inv(x.T.dot(x)).dot(x.T).dot(y)\n",
    "    \n",
    "    #Расчитаем случайную ошибку\n",
    "    e = y - x.dot(b)\n",
    "    \n",
    "    # Расчитываем r^2\n",
    "    SS_res = ((e - e.mean())**2).sum()\n",
    "    SS_y = ((y - y.mean())**2).sum()\n",
    "    r2_scope = 1 - SS_res / SS_y\n",
    "    \n",
    "    # Добавляем в список\n",
    "    r2_scopes.append((pair, r2_scope[0]))"
   ]
  },
  {
   "cell_type": "code",
   "execution_count": 59,
   "id": "c3dd3309",
   "metadata": {},
   "outputs": [
    {
     "data": {
      "text/plain": [
       "[((0, 1), 0.18113594742585215),\n",
       " ((0, 2), 0.7634246238793152),\n",
       " ((0, 3), 0.4532966783144077),\n",
       " ((1, 2), 0.547948273403901),\n",
       " ((1, 3), 0.6062055761129932),\n",
       " ((2, 3), 0.622441987650532)]"
      ]
     },
     "execution_count": 59,
     "metadata": {},
     "output_type": "execute_result"
    }
   ],
   "source": [
    "r2_scopes"
   ]
  },
  {
   "cell_type": "markdown",
   "id": "b5242e4d",
   "metadata": {},
   "source": [
    "Мы видим что признак 0 и 2 имеют самый наивысший коэффициент детерминации 0.76342462"
   ]
  },
  {
   "cell_type": "markdown",
   "id": "fefc84a2",
   "metadata": {},
   "source": [
    "#### Задача 2\n",
    "Является ли значимым уравнение регрессии, полученное в предыдущей задаче? В качестве ответа запишите 1, если является, и 0 иначе.\n",
    "\n",
    "__Ответ__: 1"
   ]
  },
  {
   "cell_type": "markdown",
   "id": "08909605",
   "metadata": {},
   "source": [
    "Для того что бы узнать значимость уравнения регрессии необходимо воскпользоваться F-тестом Фишера"
   ]
  },
  {
   "cell_type": "code",
   "execution_count": 60,
   "id": "aca2ef75",
   "metadata": {},
   "outputs": [
    {
     "name": "stdout",
     "output_type": "stream",
     "text": [
      "F-расчетное:11.29443912292265\n"
     ]
    }
   ],
   "source": [
    "m = 2\n",
    "n = X.shape[0]\n",
    "r2 = r2_scopes[1][1]\n",
    "F_r = (r2 / m) / ((1 - r2) / (n - m - 1))\n",
    "print(f\"F-расчетное:{F_r}\")"
   ]
  },
  {
   "cell_type": "markdown",
   "id": "85d60136",
   "metadata": {},
   "source": [
    "Теперь найдем F-табличное c alpha - 0.05"
   ]
  },
  {
   "cell_type": "code",
   "execution_count": 61,
   "id": "dca7493c",
   "metadata": {},
   "outputs": [
    {
     "name": "stdout",
     "output_type": "stream",
     "text": [
      "k1:2, k2:7\n",
      "F-табличное:4.73741412777588\n"
     ]
    }
   ],
   "source": [
    "k1 = m\n",
    "k2 = n - m - 1\n",
    "print(f\"k1:{k1}, k2:{k2}\")\n",
    "F_t = stats.f.ppf(1 - 0.05, k1, k2)\n",
    "print(f\"F-табличное:{F_t}\")"
   ]
  },
  {
   "cell_type": "markdown",
   "id": "443e8c8d",
   "metadata": {},
   "source": [
    "Наше расчетное значение больше чем табоичное, уравенине регрессии является значимым. Ответ: 1"
   ]
  },
  {
   "cell_type": "markdown",
   "id": "4de4d411",
   "metadata": {},
   "source": [
    "#### Задача 3\n",
    "\n",
    "Для проведения A/B-тестирования сайта интернет-магазина были получены следующие данные: страница `A` была посещена 2509 раз, из них 77 закончились совершением покупки, страница `B` была посещена 1465 раз, 60 из них закончились совершением покупки. Является ли значимым отличие конверсии на страницах `A` и `B`? В качестве ответа запишите 1, если является, и 0 иначе.\n",
    "\n",
    "_Подсказка_. Реализуйте двухвыборочный t-тест. В качестве выборок здесь можно взять наборы меток совершения покупки (0 или 1) каждым посетителем.\n",
    "\n",
    "__Ответ__: 0"
   ]
  },
  {
   "cell_type": "code",
   "execution_count": 62,
   "id": "03bed199",
   "metadata": {},
   "outputs": [],
   "source": [
    "a_n = 2509\n",
    "a_s = 77\n",
    "A = np.append([np.zeros(a_n - a_s)], [np.ones(a_s)], axis=1)[0]\n",
    "\n",
    "b_n = 1465\n",
    "b_s = 60\n",
    "B = np.append([np.zeros(b_n - b_s)], [np.ones(b_s)], axis=1)[0]"
   ]
  },
  {
   "cell_type": "code",
   "execution_count": 63,
   "id": "27ced3c6",
   "metadata": {},
   "outputs": [
    {
     "name": "stdout",
     "output_type": "stream",
     "text": [
      "a_std: 0.17250951379621338\n",
      "b_std: 0.19825513126725994\n",
      "std_delta: 0.006220171278295827\n"
     ]
    }
   ],
   "source": [
    "a_std = A.std(ddof=1)\n",
    "b_std = B.std(ddof=1)\n",
    "print(f\"a_std: {a_std}\")\n",
    "print(f\"b_std: {b_std}\")\n",
    "\n",
    "std_delta = np.sqrt(a_std**2 / a_n + b_std**2 / b_n)\n",
    "print(f\"std_delta: {std_delta}\")"
   ]
  },
  {
   "cell_type": "code",
   "execution_count": 64,
   "id": "867bda7e",
   "metadata": {},
   "outputs": [
    {
     "name": "stdout",
     "output_type": "stream",
     "text": [
      "t-расчетное = -1.6504551408398205\n"
     ]
    }
   ],
   "source": [
    "t = (A.mean() - B.mean()) / std_delta\n",
    "print(f\"t-расчетное = {t}\")"
   ]
  },
  {
   "cell_type": "markdown",
   "id": "7e11852d",
   "metadata": {},
   "source": [
    "Расчет степеней свободы"
   ]
  },
  {
   "cell_type": "code",
   "execution_count": 65,
   "id": "a7014b68",
   "metadata": {},
   "outputs": [
    {
     "name": "stdout",
     "output_type": "stream",
     "text": [
      "df = 2732.8025644352133\n"
     ]
    }
   ],
   "source": [
    "df = (a_std ** 2 / a_n + b_std ** 2 / b_n) ** 2 / \\\n",
    "    ((a_std ** 2 / a_n) ** 2 / (a_n - 1) + (b_std ** 2 / b_n) ** 2 / (b_n - 1))\n",
    "\n",
    "print(f\"df = {df}\")"
   ]
  },
  {
   "cell_type": "markdown",
   "id": "6e7532ef",
   "metadata": {},
   "source": [
    "Уровень значимости 5%\n"
   ]
  },
  {
   "cell_type": "code",
   "execution_count": 66,
   "id": "a0d3aafa",
   "metadata": {},
   "outputs": [
    {
     "data": {
      "text/plain": [
       "(-1.9608324352746576, 1.9608324352746571)"
      ]
     },
     "execution_count": 66,
     "metadata": {},
     "output_type": "execute_result"
    }
   ],
   "source": [
    "alpha = 0.05\n",
    "\n",
    "t1 = stats.t.ppf(alpha / 2, df=df)\n",
    "t2 = stats.t.ppf(1 - alpha / 2, df=df)\n",
    "\n",
    "t1, t2"
   ]
  },
  {
   "cell_type": "markdown",
   "id": "eed1dac6",
   "metadata": {},
   "source": [
    "Ответ 0, т.к t-расчетное не попадает в критическую область, это значит что нулевая гипотеза подтверждена"
   ]
  }
 ],
 "metadata": {
  "kernelspec": {
   "display_name": "Python 3 (ipykernel)",
   "language": "python",
   "name": "python3"
  },
  "language_info": {
   "codemirror_mode": {
    "name": "ipython",
    "version": 3
   },
   "file_extension": ".py",
   "mimetype": "text/x-python",
   "name": "python",
   "nbconvert_exporter": "python",
   "pygments_lexer": "ipython3",
   "version": "3.9.2"
  }
 },
 "nbformat": 4,
 "nbformat_minor": 5
}
