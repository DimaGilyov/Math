{
 "cells": [
  {
   "cell_type": "markdown",
   "id": "76731e77",
   "metadata": {},
   "source": [
    "# Урок 1"
   ]
  },
  {
   "cell_type": "markdown",
   "id": "59d12d57",
   "metadata": {},
   "source": [
    "# Линейное пространство"
   ]
  },
  {
   "cell_type": "markdown",
   "id": "6f3d4a6e",
   "metadata": {},
   "source": [
    "## Практическое задание 1"
   ]
  },
  {
   "cell_type": "markdown",
   "id": "cfd4b78f",
   "metadata": {},
   "source": [
    "__1.__ Исследовать на линейную зависимость:\n",
    "\n",
    "$$f_{1}(x)=e^{x}, f_{2}(x)=1, f_{3}(x)=x+1, f_{4}(x)=x-e^{x}.$$"
   ]
  },
  {
   "cell_type": "markdown",
   "id": "89158f68",
   "metadata": {},
   "source": [
    "$$\\alpha_{1}*e^{x} + \\alpha_{2}*1 + \\alpha_{3}*(x + 1) + \\alpha_{4}* x-e^{x} = 0$$\n",
    "При этом всем сделует что все коэффициенты должны быть равны нулю"
   ]
  },
  {
   "cell_type": "markdown",
   "id": "fe9e92c5",
   "metadata": {},
   "source": [
    "Элементы $u_{1},u_{2},...,u_{n}$ векторного пространства $V$ называются _линейно независимыми_, если равенство $\\sum_{t=1}^{n}\\lambda_{t}u_{t}=0$ выполняется только тогда, когда $\\lambda_{1}= \\lambda_{2}= ...= \\lambda_{n}=0$."
   ]
  },
  {
   "cell_type": "markdown",
   "id": "8a42ca4c",
   "metadata": {},
   "source": [
    "__2.__ Исследовать на линейную зависимость:\\\n",
    "$f_{1}(x)=2, f_{2}(x)=x, f_{3}(x)=x^{2}, f_{4}(x)=(x+1)^{2}$"
   ]
  },
  {
   "cell_type": "markdown",
   "id": "e8ae7a4f",
   "metadata": {},
   "source": [
    "$\\alpha_{1} \\cdot 2 + \\alpha_{2} \\cdot x + \\alpha_{3} \\cdot x^2 + \\alpha_{4} \\cdot (x^2 + 2x + 1) = 0$ "
   ]
  },
  {
   "cell_type": "markdown",
   "id": "d8d0587a",
   "metadata": {},
   "source": [
    "$\\alpha_{1} \\cdot 2 + \\alpha_{2} \\cdot x + \\alpha_{3} \\cdot x^2 + \\alpha_{4} \\cdot x^2 + \\alpha_{4} \\cdot 2x + \\alpha_{4} \\cdot 1 = 0$ "
   ]
  },
  {
   "cell_type": "markdown",
   "id": "b18a977d",
   "metadata": {},
   "source": [
    "$x^2\\cdot (\\alpha_{3} + \\alpha_{4})  + x\\cdot (\\alpha_{2} + 2\\alpha_{4}) + (2\\alpha_{1} + \\alpha_{4})$"
   ]
  },
  {
   "cell_type": "markdown",
   "id": "a8f175c0",
   "metadata": {},
   "source": [
    "$\\begin{cases} \\alpha_{3} + \\alpha_{4} = 0 \\\\\\ \\alpha_{2} + 2\\alpha_{4} = 0\\ \\\\\\ 2\\alpha_{1} + \\alpha_{4} = 0\\end{cases}$"
   ]
  },
  {
   "cell_type": "markdown",
   "id": "82d039bd",
   "metadata": {},
   "source": [
    "Уравнение линейно независомое, т.к уравнеие равно нулю только при нулевых коэффициентах"
   ]
  },
  {
   "cell_type": "markdown",
   "id": "34e8d100",
   "metadata": {},
   "source": [
    "__3.__ Найти координаты вектора $x = (2, 3, 5)\\in \\mathbb{R}^{3}$ в базисе $b_{1}=(0, 0, 10)$, $b_{2}=(2, 0, 0)$, $b_{3}=(0, 1, 0)$.\n"
   ]
  },
  {
   "cell_type": "markdown",
   "id": "744a02ab",
   "metadata": {},
   "source": [
    "составляем систему линейных уравенний \n",
    "$$\\begin{cases}\n",
    " k1*0 + k2*2 + k3*0=2,\\\\\n",
    " k1*0 + k2*0 + k3*1=3, \\\\\n",
    " k1*10 + k2*0 + k3*0=5,\\\\\n",
    "\\end{cases}$$"
   ]
  },
  {
   "cell_type": "markdown",
   "id": "83766a19",
   "metadata": {},
   "source": [
    "Ответ (1, 3, 1/2)"
   ]
  },
  {
   "cell_type": "markdown",
   "id": "3e0874a1",
   "metadata": {},
   "source": [
    "__4.__ Найти координаты вектора $3x^{2}-2x+2\\in\\mathbb{R}^{3}[x]$:\n",
    "а) Найти координаты вектора $3x^{2}-2x+2\\in\\mathbb{R}^{3}[x]$: в базисе $1$, $x$, $x^{2}$\n",
    "\n",
    "\n",
    "Найти координаты вектора (3,-2,2) в базисе из векторов (0, 0, 1), (0, 1, 0), (1, 0, 0)\n",
    "\n",
    "$\\alpha_{1} \\cdot (0, 0 ,1) + \\alpha_{2} \\cdot (0, 1, 0) + \\alpha_{3} \\cdot (1, 0, 0) = (3, -2, 2)$  \n",
    "\n",
    "$\\begin{cases} 0 \\cdot \\alpha_{1} + 0 \\cdot \\alpha_{2} + 1 \\cdot \\alpha_{3} = 3 \\\\\\ 0 \\cdot \\alpha_{1} + 1 \\cdot \\alpha_{2} + 0 \\cdot \\alpha_{3} = -2 \\\\\\ 1 \\cdot \\alpha_{1} + 0 \\cdot \\alpha_{2} + 0 \\cdot \\alpha_{3} = 2 \\end{cases}$\n",
    "\n",
    "$\\begin{cases} \\alpha_{3} = 3 \\\\\\ \\alpha_{2} = -2 \\\\\\ \\alpha_{1} = 2 \\end{cases}$\n",
    "\n",
    "\n",
    "Ответ: ($2$, $-2$, $3$).\n",
    "\n",
    "б) Найти координаты вектора $3x^{2}-2x+2\\in\\mathbb{R}^{3}[x]$: в базисе $x^{2}$, $x-1$, $1$\n",
    "\n",
    "Найдем координаты вектора (3,-2,2) в базисе из векторов (1, 0, 0), (0, 1, -1), (0, 0, 1)\n",
    "\n",
    "$\\begin{cases} 1 \\cdot \\alpha_{1} + 0 \\cdot \\alpha_{2} + 0 \\cdot \\alpha_{3} = 3 \\\\\\ 0 \\cdot \\alpha_{1} + 1 \\cdot \\alpha_{2} + \n",
    "0 \\cdot \\alpha_{3} = -2 \\\\\\ 0 \\cdot \\alpha_{1} + (-1) \\cdot \\alpha_{2} + 1 \\cdot \\alpha_{3} = 2 \\end{cases}$\n",
    "\n",
    "$\\begin{cases} \\alpha_{1} = 3 \\\\\\ \\alpha_{2} = -2 \\\\ \\alpha_{3} = 0 \\end{cases}$\n",
    "\n",
    "Ответ: ($3$, $-2$, $0$)."
   ]
  },
  {
   "cell_type": "markdown",
   "id": "d8def3e6",
   "metadata": {},
   "source": [
    "__5.__ Установить, является ли линейным подпространством:\n",
    "\n",
    "а) совокупность всех векторов трехмерного пространства, у которых по крайней мере одна из первых двух координат равна нулю;\\\n",
    "Ответ: не является\n",
    "    \n",
    "б) все векторы, являющиеся линейными комбинациями данных векторов $\\{u_{1}, u_{2}, \\ldots, u_{n}\\}$.\\\n",
    "Ответ: да являются"
   ]
  },
  {
   "cell_type": "markdown",
   "id": "3a262851",
   "metadata": {},
   "source": [
    "## Практическое задание 2"
   ]
  },
  {
   "cell_type": "markdown",
   "id": "ccfac216",
   "metadata": {},
   "source": [
    "__1.__ Найти скалярное произведение векторов $x, y \\in \\mathbb{R}$:<br>\n",
    "а) $x=(0,-3, 6),~y=(-4, 7, 9);$<br>\n",
    "   $0*(-4) + (-3) * 7 + 6*9 = 33$<br><br>\n",
    "б) $x=(7, -4, 0, 1),~y=(-3, 1, 11, 2).$<br>\n",
    "   $7*(-3) + (-4)*1 + 0*11 + 1*2=-23$<br>"
   ]
  },
  {
   "cell_type": "markdown",
   "id": "b5cf1b1a",
   "metadata": {},
   "source": [
    "__2.__ Найти нормы векторов $x=(4, 2, 4)$ и $y=(12, 3, 4)$ и угол между ними.<br>\n",
    "p1) \n",
    "|x| = 10 <br>\n",
    "|y| = 19 <br>\n",
    "$𝑐𝑜𝑠𝛼=\\frac{48 + 6 + 16}{10*19}=\\frac{7}{19}$\n",
    "<br>\n",
    "<br>\n",
    "p2) <br>\n",
    "|x| = $\\sqrt{36}=6$ <br>\n",
    "|y| = $\\sqrt{169}=13$ <br>\n",
    "$𝑐𝑜𝑠𝛼=\\frac{70}{13*6} = \\frac{70}{78}$"
   ]
  },
  {
   "cell_type": "markdown",
   "id": "ed1e4569",
   "metadata": {},
   "source": [
    "__3.__ Будет ли линейное пространство евклидовым, если за скалярное произведение принять:<br>\n",
    "а) произведение длин векторов;<br>\n",
    "б) утроенное обычное скалярное произведение векторов?<br>"
   ]
  },
  {
   "cell_type": "markdown",
   "id": "78f5ad8f",
   "metadata": {},
   "source": [
    "__Определение__\n",
    "\n",
    "Линейное пространство над полем вещественных чисел называется _евклидовым пространством_, если на нем введено правило, согласно которому каждой упорядоченной паре векторов $x$ и $y$ поставлено в соответствие вещественное число, называемое _скалярным произведением_ и обозначаемое символом $(x, y)$.\n",
    "\n",
    "При этом указанное правило должно подчиняться четырем аксиомам:<br>\n",
    "1) $(x,y)=(y,x);$<br>\n",
    "2) $(\\lambda x, y)=\\lambda(x, y);$<br>\n",
    "3) $(x_{1}+x_{2},y)=(x_{1},y)+(x_{2},y);$<br>\n",
    "4) $(x, x)\\geq0$, причем $(x,x)=0\\Leftrightarrow x=0.$"
   ]
  },
  {
   "cell_type": "markdown",
   "id": "4106bb82",
   "metadata": {},
   "source": [
    "$(x, y) = \\left|x\\right|\\cdot\\left|y\\right|\\cdot cos\\alpha.$"
   ]
  },
  {
   "cell_type": "markdown",
   "id": "5dbe8249",
   "metadata": {},
   "source": [
    "Ответ: a)Нет, б)ДА"
   ]
  },
  {
   "cell_type": "markdown",
   "id": "585fba07",
   "metadata": {},
   "source": [
    "__4.__ Какие из нижеперечисленных векторов образуют ортонормированный базис в линейном пространстве $\\mathbb{R}^{3}$:<br>\n",
    "а) $(1,0,0),(0,0,1);$ <br>\n",
    "б) $(1/\\sqrt{2},-1/\\sqrt{2},0),(1/\\sqrt{2},1/\\sqrt{2},0), (0,0,1);$<br>\n",
    "в) $(1/2, -1/2, 0), (0, 1/2, 1/2), (0,0,1);$<br>\n",
    "г) $(1,0,0),(0,1,0),(0,0,1)?$ "
   ]
  },
  {
   "cell_type": "markdown",
   "id": "c24d5c9d",
   "metadata": {},
   "source": [
    "Проверяем 2 условия<br>\n",
    "1) $(x, y) = 0, i\\neq j$<br>\n",
    "2) $|x|*|x| = 1$ <br>"
   ]
  },
  {
   "cell_type": "markdown",
   "id": "c2ccb0c5",
   "metadata": {},
   "source": [
    "Ответ Б и Г"
   ]
  },
  {
   "cell_type": "code",
   "execution_count": null,
   "id": "ac7ad597",
   "metadata": {},
   "outputs": [],
   "source": []
  }
 ],
 "metadata": {
  "kernelspec": {
   "display_name": "Python 3 (ipykernel)",
   "language": "python",
   "name": "python3"
  },
  "language_info": {
   "codemirror_mode": {
    "name": "ipython",
    "version": 3
   },
   "file_extension": ".py",
   "mimetype": "text/x-python",
   "name": "python",
   "nbconvert_exporter": "python",
   "pygments_lexer": "ipython3",
   "version": "3.9.2"
  }
 },
 "nbformat": 4,
 "nbformat_minor": 5
}
