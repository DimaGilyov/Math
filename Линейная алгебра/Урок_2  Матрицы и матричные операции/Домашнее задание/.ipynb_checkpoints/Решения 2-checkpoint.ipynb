{
 "cells": [
  {
   "cell_type": "markdown",
   "id": "330e70b9",
   "metadata": {},
   "source": [
    "## Матрицы и матричные операции."
   ]
  },
  {
   "cell_type": "code",
   "execution_count": 15,
   "id": "6ea51d79",
   "metadata": {},
   "outputs": [],
   "source": [
    "import numpy as np"
   ]
  },
  {
   "cell_type": "markdown",
   "id": "a5fb0d1f",
   "metadata": {},
   "source": [
    "#### Остальные задания решены в файле pdf"
   ]
  },
  {
   "cell_type": "markdown",
   "id": "5a4636ad",
   "metadata": {},
   "source": [
    "__5*.__ Написать на Python функцию для перемножения двух произвольных матриц, не используя NumPy."
   ]
  },
  {
   "cell_type": "code",
   "execution_count": 77,
   "id": "d2654fcc",
   "metadata": {},
   "outputs": [],
   "source": [
    "def dot(matrix_1, matrix_2):\n",
    "    rows_count_1 = len(matrix_1)\n",
    "    columns_count_1 = len(matrix_1[0])\n",
    "    rows_count_2 = len(matrix_2)\n",
    "    columns_count_2 = len(matrix_2[0])\n",
    "    assert columns_count_1 == rows_count_2,\\\n",
    "    f\"shapes ({rows_count_1},{columns_count_1})and ({rows_count_2},{columns_count_2}) not aligned!\" \n",
    "    \n",
    "    matrix = [[0 for _ in range(columns_count_2)] for _ in range(rows_count_1)]  \n",
    "    for i in range(rows_count_1):       \n",
    "        for j in range(columns_count_2):\n",
    "            for k in range(rows_count_2):\n",
    "                matrix[i][j] += matrix_1[i][k] * matrix_2[k][j]\n",
    "                \n",
    "    return matrix"
   ]
  },
  {
   "cell_type": "code",
   "execution_count": 78,
   "id": "b52460e8",
   "metadata": {},
   "outputs": [
    {
     "name": "stdout",
     "output_type": "stream",
     "text": [
      "[17, 18, 11]\n",
      "[18, 29, 4]\n",
      "[11, 4, 13]\n"
     ]
    }
   ],
   "source": [
    "matrix_1 = [[4, 1], [5, -2], [2, 3]]\n",
    "matrix_2 = [[4, 5, 2], [1, -2, 3]]\n",
    "matrix_3 = dot(matrix_1, matrix_2)\n",
    "print(*matrix_3, sep=\"\\n\")"
   ]
  },
  {
   "cell_type": "code",
   "execution_count": 79,
   "id": "57e15586",
   "metadata": {},
   "outputs": [
    {
     "name": "stdout",
     "output_type": "stream",
     "text": [
      "[45, 0]\n",
      "[0, 14]\n"
     ]
    }
   ],
   "source": [
    "matrix_3 = dot(matrix_2, matrix_1)\n",
    "print(*matrix_3, sep=\"\\n\")"
   ]
  },
  {
   "cell_type": "code",
   "execution_count": 80,
   "id": "1955686d",
   "metadata": {},
   "outputs": [
    {
     "name": "stdout",
     "output_type": "stream",
     "text": [
      "[77, 38, 13]\n",
      "[-37, 54, 0]\n",
      "[141, 14, 19]\n"
     ]
    }
   ],
   "source": [
    "matrix_1 = [[4, 1], [5, -2], [2, 3]]\n",
    "matrix_2 = [[9, 10, 2], [41, -2, 5]]\n",
    "matrix_3 = dot(matrix_1, matrix_2)\n",
    "print(*matrix_3, sep=\"\\n\")"
   ]
  },
  {
   "cell_type": "code",
   "execution_count": null,
   "id": "76d61b77",
   "metadata": {},
   "outputs": [],
   "source": []
  }
 ],
 "metadata": {
  "kernelspec": {
   "display_name": "Python 3 (ipykernel)",
   "language": "python",
   "name": "python3"
  },
  "language_info": {
   "codemirror_mode": {
    "name": "ipython",
    "version": 3
   },
   "file_extension": ".py",
   "mimetype": "text/x-python",
   "name": "python",
   "nbconvert_exporter": "python",
   "pygments_lexer": "ipython3",
   "version": "3.9.2"
  }
 },
 "nbformat": 4,
 "nbformat_minor": 5
}
